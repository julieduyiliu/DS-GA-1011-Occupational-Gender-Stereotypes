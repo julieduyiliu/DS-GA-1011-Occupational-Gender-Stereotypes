{
  "nbformat": 4,
  "nbformat_minor": 0,
  "metadata": {
    "colab": {
      "provenance": [],
      "machine_shape": "hm",
      "gpuType": "A100"
    },
    "kernelspec": {
      "name": "python3",
      "display_name": "Python 3"
    },
    "language_info": {
      "name": "python"
    },
    "accelerator": "GPU"
  },
  "cells": [
    {
      "cell_type": "markdown",
      "source": [
        "# Modify the bilstm.py to use GN-GloVe embeddings"
      ],
      "metadata": {
        "id": "j-0WDRnu5zJb"
      }
    },
    {
      "cell_type": "code",
      "execution_count": 1,
      "metadata": {
        "colab": {
          "base_uri": "https://localhost:8080/"
        },
        "id": "6RVnvL8-5Xyk",
        "outputId": "8764dd71-5bc2-4712-ca19-0da921df51fc"
      },
      "outputs": [
        {
          "output_type": "stream",
          "name": "stdout",
          "text": [
            "Requirement already satisfied: scikit-learn in /usr/local/lib/python3.10/dist-packages (1.5.2)\n",
            "Requirement already satisfied: pandas in /usr/local/lib/python3.10/dist-packages (2.2.2)\n",
            "Requirement already satisfied: numpy in /usr/local/lib/python3.10/dist-packages (1.26.4)\n",
            "Requirement already satisfied: scipy>=1.6.0 in /usr/local/lib/python3.10/dist-packages (from scikit-learn) (1.13.1)\n",
            "Requirement already satisfied: joblib>=1.2.0 in /usr/local/lib/python3.10/dist-packages (from scikit-learn) (1.4.2)\n",
            "Requirement already satisfied: threadpoolctl>=3.1.0 in /usr/local/lib/python3.10/dist-packages (from scikit-learn) (3.5.0)\n",
            "Requirement already satisfied: python-dateutil>=2.8.2 in /usr/local/lib/python3.10/dist-packages (from pandas) (2.8.2)\n",
            "Requirement already satisfied: pytz>=2020.1 in /usr/local/lib/python3.10/dist-packages (from pandas) (2024.2)\n",
            "Requirement already satisfied: tzdata>=2022.7 in /usr/local/lib/python3.10/dist-packages (from pandas) (2024.2)\n",
            "Requirement already satisfied: six>=1.5 in /usr/local/lib/python3.10/dist-packages (from python-dateutil>=2.8.2->pandas) (1.16.0)\n"
          ]
        }
      ],
      "source": [
        "!pip install scikit-learn pandas numpy"
      ]
    },
    {
      "cell_type": "code",
      "source": [
        "!unzip data.zip"
      ],
      "metadata": {
        "colab": {
          "base_uri": "https://localhost:8080/"
        },
        "id": "SBAeW2WY5zTr",
        "outputId": "1b54ba53-78bf-4b75-b05a-612a9e18110b"
      },
      "execution_count": 2,
      "outputs": [
        {
          "output_type": "stream",
          "name": "stdout",
          "text": [
            "Archive:  data.zip\n",
            "   creating: data/\n",
            "  inflating: __MACOSX/._data         \n",
            "  inflating: data/gender_corpus.tsv  \n",
            "  inflating: __MACOSX/data/._gender_corpus.tsv  \n",
            "  inflating: data/train.tsv          \n",
            "  inflating: __MACOSX/data/._train.tsv  \n",
            "  inflating: data/plot_data.csv      \n",
            "  inflating: __MACOSX/data/._plot_data.csv  \n",
            "  inflating: data/dev.tsv            \n",
            "  inflating: __MACOSX/data/._dev.tsv  \n",
            "  inflating: data/gender.tsv         \n",
            "  inflating: __MACOSX/data/._gender.tsv  \n"
          ]
        }
      ]
    },
    {
      "cell_type": "code",
      "source": [
        "!unzip runs.zip"
      ],
      "metadata": {
        "colab": {
          "base_uri": "https://localhost:8080/"
        },
        "id": "oLvj1I3U5zX2",
        "outputId": "dab489f4-ca52-4489-8ad2-e3a6503fe2a8"
      },
      "execution_count": 3,
      "outputs": [
        {
          "output_type": "stream",
          "name": "stdout",
          "text": [
            "Archive:  runs.zip\n",
            "   creating: runs/\n",
            "  inflating: __MACOSX/._runs         \n",
            "   creating: runs/gender/\n",
            "  inflating: __MACOSX/runs/._gender  \n",
            "  inflating: runs/results.txt        \n",
            "  inflating: __MACOSX/runs/._results.txt  \n",
            "  inflating: runs/readme.md          \n",
            "  inflating: __MACOSX/runs/._readme.md  \n",
            "  inflating: runs/logreg.txt         \n",
            "  inflating: __MACOSX/runs/._logreg.txt  \n",
            "  inflating: runs/plot.png           \n",
            "  inflating: __MACOSX/runs/._plot.png  \n",
            "  inflating: runs/lstm.txt           \n",
            "  inflating: __MACOSX/runs/._lstm.txt  \n",
            "  inflating: runs/lstm.h5            \n",
            "  inflating: __MACOSX/runs/._lstm.h5  \n",
            "  inflating: runs/gender/test_results.tsv  \n",
            "  inflating: __MACOSX/runs/gender/._test_results.tsv  \n",
            "  inflating: runs/gender/Bert_test_result  \n",
            "  inflating: __MACOSX/runs/gender/._Bert_test_result  \n"
          ]
        }
      ]
    },
    {
      "cell_type": "code",
      "source": [
        "!unzip src.zip"
      ],
      "metadata": {
        "colab": {
          "base_uri": "https://localhost:8080/"
        },
        "id": "PzIIa03y5zbr",
        "outputId": "84a0a1d2-3fe5-45a5-94ee-375e8c12b7a0"
      },
      "execution_count": 4,
      "outputs": [
        {
          "output_type": "stream",
          "name": "stdout",
          "text": [
            "Archive:  src.zip\n",
            "   creating: src/\n",
            "  inflating: __MACOSX/._src          \n",
            "  inflating: src/bert_finetune.py    \n",
            "  inflating: __MACOSX/src/._bert_finetune.py  \n",
            "  inflating: src/config.py           \n",
            "  inflating: __MACOSX/src/._config.py  \n",
            "  inflating: src/bert_finetune2.py   \n",
            "  inflating: __MACOSX/src/._bert_finetune2.py  \n",
            "  inflating: src/analysis.py         \n",
            "  inflating: __MACOSX/src/._analysis.py  \n",
            "  inflating: src/baseline.py         \n",
            "  inflating: __MACOSX/src/._baseline.py  \n",
            "  inflating: src/readme.md           \n",
            "  inflating: __MACOSX/src/._readme.md  \n",
            "  inflating: src/generate_corpus.py  \n",
            "  inflating: __MACOSX/src/._generate_corpus.py  \n",
            "  inflating: src/utils.py            \n",
            "  inflating: __MACOSX/src/._utils.py  \n",
            "  inflating: src/bilstm.py           \n",
            "  inflating: __MACOSX/src/._bilstm.py  \n"
          ]
        }
      ]
    },
    {
      "cell_type": "code",
      "source": [
        "# Path to your GN-GloVe file\n",
        "gn_glove_file = \"/content/1b-vectors300-0.8-0.8.txt\"\n",
        "\n",
        "# Initialize variables\n",
        "dimensionality = None\n",
        "inconsistent_lines = []\n",
        "\n",
        "# Open and read the file\n",
        "with open(gn_glove_file, \"r\") as f:\n",
        "    for line_num, line in enumerate(f, start=1):\n",
        "        values = line.strip().split()\n",
        "        word = values[0]\n",
        "        vector = values[1:]\n",
        "\n",
        "        # Check dimensionality\n",
        "        if dimensionality is None:\n",
        "            dimensionality = len(vector)\n",
        "        elif len(vector) != dimensionality:\n",
        "            inconsistent_lines.append((line_num, word, len(vector)))\n",
        "\n",
        "# Results\n",
        "print(f\"Expected dimensionality: {dimensionality}\")\n",
        "if inconsistent_lines:\n",
        "    print(\"Inconsistent lines found:\")\n",
        "    for line_num, word, dim in inconsistent_lines:\n",
        "        print(f\"Line {line_num}: Word '{word}' has {dim} dimensions\")\n",
        "else:\n",
        "    print(\"All lines have consistent dimensions.\")"
      ],
      "metadata": {
        "colab": {
          "base_uri": "https://localhost:8080/"
        },
        "id": "ZZFCCVNb5zfO",
        "outputId": "41b55b5d-9568-40bb-8ca5-24741661eafc"
      },
      "execution_count": 5,
      "outputs": [
        {
          "output_type": "stream",
          "name": "stdout",
          "text": [
            "Expected dimensionality: 300\n",
            "All lines have consistent dimensions.\n"
          ]
        }
      ]
    },
    {
      "cell_type": "code",
      "source": [
        "!python3 src/baseline.py"
      ],
      "metadata": {
        "colab": {
          "base_uri": "https://localhost:8080/"
        },
        "id": "XZrTTcRW6tfl",
        "outputId": "5bb969f3-27e2-430b-e0d7-b86f0c44bc68"
      },
      "execution_count": 6,
      "outputs": [
        {
          "output_type": "stream",
          "name": "stdout",
          "text": [
            "0.8268348623853211\n"
          ]
        }
      ]
    },
    {
      "cell_type": "code",
      "source": [
        "!python3 src/bilstm.py"
      ],
      "metadata": {
        "colab": {
          "base_uri": "https://localhost:8080/"
        },
        "id": "ahzhTq8X71C5",
        "outputId": "c407f8bf-2989-4c5b-e637-e19087823a5d"
      },
      "execution_count": 7,
      "outputs": [
        {
          "output_type": "stream",
          "name": "stdout",
          "text": [
            "2024-11-25 01:28:44.650746: I tensorflow/core/util/port.cc:153] oneDNN custom operations are on. You may see slightly different numerical results due to floating-point round-off errors from different computation orders. To turn them off, set the environment variable `TF_ENABLE_ONEDNN_OPTS=0`.\n",
            "2024-11-25 01:28:44.668401: E external/local_xla/xla/stream_executor/cuda/cuda_fft.cc:485] Unable to register cuFFT factory: Attempting to register factory for plugin cuFFT when one has already been registered\n",
            "2024-11-25 01:28:44.689154: E external/local_xla/xla/stream_executor/cuda/cuda_dnn.cc:8454] Unable to register cuDNN factory: Attempting to register factory for plugin cuDNN when one has already been registered\n",
            "2024-11-25 01:28:44.695510: E external/local_xla/xla/stream_executor/cuda/cuda_blas.cc:1452] Unable to register cuBLAS factory: Attempting to register factory for plugin cuBLAS when one has already been registered\n",
            "2024-11-25 01:28:44.710405: I tensorflow/core/platform/cpu_feature_guard.cc:210] This TensorFlow binary is optimized to use available CPU instructions in performance-critical operations.\n",
            "To enable the following instructions: AVX2 AVX512F AVX512_VNNI FMA, in other operations, rebuild TensorFlow with the appropriate compiler flags.\n",
            "2024-11-25 01:28:45.763679: W tensorflow/compiler/tf2tensorrt/utils/py_utils.cc:38] TF-TRT Warning: Could not find TensorRT\n",
            "Found 14653 unique tokens.\n",
            "2397 words missing from GloVe vocabulary\n",
            "/usr/local/lib/python3.10/dist-packages/keras/src/layers/core/embedding.py:90: UserWarning: Argument `input_length` is deprecated. Just remove it.\n",
            "  warnings.warn(\n",
            "2024-11-25 01:28:58.885130: W tensorflow/core/common_runtime/gpu/gpu_bfc_allocator.cc:47] Overriding orig_value setting because the TF_FORCE_GPU_ALLOW_GROWTH environment variable is set. Original config value was 0.\n",
            "2024-11-25 01:28:58.885470: I tensorflow/core/common_runtime/gpu/gpu_device.cc:2021] Created device /job:localhost/replica:0/task:0/device:GPU:0 with 38554 MB memory:  -> device: 0, name: NVIDIA A100-SXM4-40GB, pci bus id: 0000:00:04.0, compute capability: 8.0\n",
            "\u001b[1mModel: \"sequential\"\u001b[0m\n",
            "┏━━━━━━━━━━━━━━━━━━━━━━━━━━━━━━━━━━━━━━┳━━━━━━━━━━━━━━━━━━━━━━━━━━━━━┳━━━━━━━━━━━━━━━━━┓\n",
            "┃\u001b[1m \u001b[0m\u001b[1mLayer (type)                        \u001b[0m\u001b[1m \u001b[0m┃\u001b[1m \u001b[0m\u001b[1mOutput Shape               \u001b[0m\u001b[1m \u001b[0m┃\u001b[1m \u001b[0m\u001b[1m        Param #\u001b[0m\u001b[1m \u001b[0m┃\n",
            "┡━━━━━━━━━━━━━━━━━━━━━━━━━━━━━━━━━━━━━━╇━━━━━━━━━━━━━━━━━━━━━━━━━━━━━╇━━━━━━━━━━━━━━━━━┩\n",
            "│ embedding (\u001b[94mEmbedding\u001b[0m)                │ ?                           │       \u001b[32m4,396,200\u001b[0m │\n",
            "├──────────────────────────────────────┼─────────────────────────────┼─────────────────┤\n",
            "│ bidirectional (\u001b[94mBidirectional\u001b[0m)        │ ?                           │     \u001b[32m0\u001b[0m (unbuilt) │\n",
            "├──────────────────────────────────────┼─────────────────────────────┼─────────────────┤\n",
            "│ dropout (\u001b[94mDropout\u001b[0m)                    │ ?                           │     \u001b[32m0\u001b[0m (unbuilt) │\n",
            "├──────────────────────────────────────┼─────────────────────────────┼─────────────────┤\n",
            "│ dense (\u001b[94mDense\u001b[0m)                        │ ?                           │     \u001b[32m0\u001b[0m (unbuilt) │\n",
            "└──────────────────────────────────────┴─────────────────────────────┴─────────────────┘\n",
            "\u001b[1m Total params: \u001b[0m\u001b[32m4,396,200\u001b[0m (16.77 MB)\n",
            "\u001b[1m Trainable params: \u001b[0m\u001b[32m0\u001b[0m (0.00 B)\n",
            "\u001b[1m Non-trainable params: \u001b[0m\u001b[32m4,396,200\u001b[0m (16.77 MB)\n",
            "None\n",
            "Epoch 1/3\n",
            "2024-11-25 01:29:03.427523: I external/local_xla/xla/stream_executor/cuda/cuda_dnn.cc:531] Loaded cuDNN version 8906\n",
            "\u001b[1m2105/2105\u001b[0m \u001b[32m━━━━━━━━━━━━━━━━━━━━\u001b[0m\u001b[37m\u001b[0m \u001b[1m24s\u001b[0m 9ms/step - accuracy: 0.8007 - loss: 0.4275 - val_accuracy: 0.8314 - val_loss: 0.3851\n",
            "Epoch 2/3\n",
            "\u001b[1m2105/2105\u001b[0m \u001b[32m━━━━━━━━━━━━━━━━━━━━\u001b[0m\u001b[37m\u001b[0m \u001b[1m19s\u001b[0m 9ms/step - accuracy: 0.8853 - loss: 0.2710 - val_accuracy: 0.8509 - val_loss: 0.3724\n",
            "Epoch 3/3\n",
            "\u001b[1m2105/2105\u001b[0m \u001b[32m━━━━━━━━━━━━━━━━━━━━\u001b[0m\u001b[37m\u001b[0m \u001b[1m19s\u001b[0m 9ms/step - accuracy: 0.9218 - loss: 0.1962 - val_accuracy: 0.8463 - val_loss: 0.4114\n",
            "WARNING:absl:You are saving your model as an HDF5 file via `model.save()` or `keras.saving.save_model(model)`. This file format is considered legacy. We recommend using instead the native Keras format, e.g. `model.save('my_model.keras')` or `keras.saving.save_model(model, 'my_model.keras')`. \n",
            "\u001b[1m28/28\u001b[0m \u001b[32m━━━━━━━━━━━━━━━━━━━━\u001b[0m\u001b[37m\u001b[0m \u001b[1m0s\u001b[0m 9ms/step\n",
            "0.8463302752293578\n",
            "\u001b[1m25/25\u001b[0m \u001b[32m━━━━━━━━━━━━━━━━━━━━\u001b[0m\u001b[37m\u001b[0m \u001b[1m0s\u001b[0m 3ms/step\n"
          ]
        }
      ]
    },
    {
      "cell_type": "markdown",
      "source": [
        "# Debiasing by applying Adversarial training"
      ],
      "metadata": {
        "id": "1EwPKBtl5zo0"
      }
    },
    {
      "cell_type": "code",
      "source": [
        "!python3 src/bert_finetune2.py"
      ],
      "metadata": {
        "colab": {
          "base_uri": "https://localhost:8080/"
        },
        "id": "-lZAiwXO8T7W",
        "outputId": "7dfc3336-5bcd-4d2f-8574-640e02978433"
      },
      "execution_count": 14,
      "outputs": [
        {
          "output_type": "stream",
          "name": "stdout",
          "text": [
            "2024-11-25 02:55:16.690960: I tensorflow/core/util/port.cc:153] oneDNN custom operations are on. You may see slightly different numerical results due to floating-point round-off errors from different computation orders. To turn them off, set the environment variable `TF_ENABLE_ONEDNN_OPTS=0`.\n",
            "2024-11-25 02:55:16.708623: E external/local_xla/xla/stream_executor/cuda/cuda_fft.cc:485] Unable to register cuFFT factory: Attempting to register factory for plugin cuFFT when one has already been registered\n",
            "2024-11-25 02:55:16.729566: E external/local_xla/xla/stream_executor/cuda/cuda_dnn.cc:8454] Unable to register cuDNN factory: Attempting to register factory for plugin cuDNN when one has already been registered\n",
            "2024-11-25 02:55:16.735896: E external/local_xla/xla/stream_executor/cuda/cuda_blas.cc:1452] Unable to register cuBLAS factory: Attempting to register factory for plugin cuBLAS when one has already been registered\n",
            "2024-11-25 02:55:16.751058: I tensorflow/core/platform/cpu_feature_guard.cc:210] This TensorFlow binary is optimized to use available CPU instructions in performance-critical operations.\n",
            "To enable the following instructions: AVX2 AVX512F AVX512_VNNI FMA, in other operations, rebuild TensorFlow with the appropriate compiler flags.\n",
            "2024-11-25 02:55:17.902744: W tensorflow/compiler/tf2tensorrt/utils/py_utils.cc:38] TF-TRT Warning: Could not find TensorRT\n",
            "Some weights of BertForSequenceClassification were not initialized from the model checkpoint at bert-base-uncased and are newly initialized: ['classifier.bias', 'classifier.weight']\n",
            "You should probably TRAIN this model on a down-stream task to be able to use it for predictions and inference.\n",
            "Epoch 1/3 | Classification Loss: 1710.4034 | Adversarial Loss: 5836.1018\n",
            "Epoch 2/3 | Classification Loss: 932.6864 | Adversarial Loss: 5835.6185\n",
            "Epoch 3/3 | Classification Loss: 645.1066 | Adversarial Loss: 5835.6063\n",
            "Validation Accuracy: 0.9094\n",
            "Model and discriminator saved to /content/runs/bert_model.pth and /content/runs/discriminator.pth\n",
            "/content/src/bert_finetune2.py:178: UserWarning: Creating a tensor from a list of numpy.ndarrays is extremely slow. Please consider converting the list to a single numpy.ndarray with numpy.array() before converting to a tensor. (Triggered internally at ../torch/csrc/utils/tensor_new.cpp:278.)\n",
            "  dev_probs = torch.softmax(torch.tensor(dev_logits), dim=1)[:, 1].numpy()\n",
            "Predictions saved to /content/runs/gender/test_results.tsv\n"
          ]
        }
      ]
    },
    {
      "cell_type": "code",
      "source": [],
      "metadata": {
        "id": "ThBvN_-SMmar"
      },
      "execution_count": null,
      "outputs": []
    },
    {
      "cell_type": "markdown",
      "source": [
        "# Analysis"
      ],
      "metadata": {
        "id": "PQl_5eHU8WS2"
      }
    },
    {
      "cell_type": "code",
      "source": [
        "!python3 src/analysis.py"
      ],
      "metadata": {
        "colab": {
          "base_uri": "https://localhost:8080/"
        },
        "id": "aRpazyyu8Wzv",
        "outputId": "b05d08c2-d554-4ceb-8530-d6da251be437"
      },
      "execution_count": 15,
      "outputs": [
        {
          "output_type": "stream",
          "name": "stdout",
          "text": [
            "Results: [[-5.906212425825358, 7.501185188242566e-09, 0.0345668387793015], [-5.3577531399903835, 1.4273495272982524e-07, 0.04603757691074861], [0.38867389986426015, 0.6977247092479395, -0.013222992]]\n",
            "\n",
            "\n",
            "Male:  1182 0.5346869712351946\n",
            "Female:  601 0.5990016638935108\n",
            "\n",
            "\n",
            "Profession mean_sentiment female-male\n",
            "doctor 0.5071565 0.030932724\n",
            "tailor 0.5351617 0.14412275\n",
            "baker 0.5559482 0.057710826\n",
            "secretary 0.5083631 -0.00421232\n",
            "professor 0.5770195 0.03572291\n",
            "scientist 0.55970085 -0.035392284\n",
            "writer 0.54189515 0.10923296\n",
            "teacher 0.41381574 -0.13378006\n",
            "truck driver 0.45750666 -0.09423432\n",
            "pilot 0.39946228 -0.27853554\n",
            "lawyer 0.52300674 0.037430465\n",
            "flight attendant 0.55729085 -0.031856775\n",
            "nurse 0.44082016 -0.07679489\n",
            "chef 0.5337427 0.17204174\n",
            "soldier 0.58594996 -0.14542407\n",
            "dancer 0.47367015 -0.49381784\n",
            "gym trainer 0.56000596 0.057891905\n",
            "mechanic 0.46922523 0.13795525\n",
            "clerk 0.4895978 0.253347\n",
            "bartender 0.57123387 -0.0067995787\n",
            "CONTROL 0.9913813 0.0\n",
            "\n",
            "\n",
            "noun female-male\n",
            "He -0.008233493\n",
            "This boy 0.055270303\n",
            "This man -0.08886321\n",
            "My father -0.1484606\n",
            "My son 0.16907044\n",
            "My grandfather 0.15519567\n",
            "My grandson -0.027880881\n",
            "My uncle -0.13161431\n",
            "My nephew 0.18182334\n",
            "My brother -0.106824\n",
            "My boyfriend -0.08596077\n",
            "My husband -0.22307892\n",
            "The groom -0.3027491\n",
            "This gentleman 0.14803664\n",
            "The male candidate -0.04463119\n",
            "Sir, you are -0.08874273\n",
            "Dad -0.18010929\n",
            "Grandpa 0.22108631\n",
            "This widower 0.3403446\n",
            "This bachelor -0.098138236\n",
            "spinster-bachelor:  -0.09813815 0.5329379977799289\n"
          ]
        }
      ]
    },
    {
      "cell_type": "code",
      "source": [],
      "metadata": {
        "id": "39ThF8qz8W31"
      },
      "execution_count": null,
      "outputs": []
    }
  ]
}